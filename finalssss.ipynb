{
 "cells": [
  {
   "cell_type": "code",
   "execution_count": null,
   "metadata": {},
   "outputs": [],
   "source": [
    "!pip install faiss-cpu\n",
    "!pip install annoy\n"
   ]
  },
  {
   "cell_type": "code",
   "execution_count": 1,
   "metadata": {},
   "outputs": [],
   "source": [
    "# Import necessary libraries for embeddings, document processing, and vector store\n",
    "from langchain import PromptTemplate\n",
    "from langchain.chains import RetrievalQA\n",
    "from langchain.embeddings import HuggingFaceEmbeddings\n",
    "from langchain.vectorstores import FAISS\n",
    "from langchain.document_loaders import PyPDFLoader, DirectoryLoader\n",
    "from langchain.text_splitter import RecursiveCharacterTextSplitter\n",
    "from langchain.llms import CTransformers\n"
   ]
  },
  {
   "cell_type": "code",
   "execution_count": 2,
   "metadata": {},
   "outputs": [
    {
     "name": "stdout",
     "output_type": "stream",
     "text": [
      "Number of chunks: 7020\n"
     ]
    }
   ],
   "source": [
    "# Function to load PDF documents from a directory\n",
    "def load_pdf(data_path):\n",
    "    loader = DirectoryLoader(data_path, glob=\"*.pdf\", loader_cls=PyPDFLoader)\n",
    "    documents = loader.load()\n",
    "    return documents\n",
    "\n",
    "# Load the PDFs from the \"data\" folder\n",
    "extracted_data = load_pdf(\"data/\")\n",
    "\n",
    "# Function to split the documents into smaller text chunks\n",
    "def text_split(extracted_data):\n",
    "    text_splitter = RecursiveCharacterTextSplitter(chunk_size=500, chunk_overlap=20)\n",
    "    text_chunks = text_splitter.split_documents(extracted_data)\n",
    "    return text_chunks\n",
    "\n",
    "# Split the extracted data into text chunks\n",
    "text_chunks = text_split(extracted_data)\n",
    "print(f\"Number of chunks: {len(text_chunks)}\")\n"
   ]
  },
  {
   "cell_type": "code",
   "execution_count": 3,
   "metadata": {},
   "outputs": [
    {
     "name": "stderr",
     "output_type": "stream",
     "text": [
      "c:\\Users\\aksha\\anaconda3\\envs\\mchatbot\\lib\\site-packages\\tqdm\\auto.py:21: TqdmWarning: IProgress not found. Please update jupyter and ipywidgets. See https://ipywidgets.readthedocs.io/en/stable/user_install.html\n",
      "  from .autonotebook import tqdm as notebook_tqdm\n"
     ]
    },
    {
     "name": "stdout",
     "output_type": "stream",
     "text": [
      "Query Embedding Length: 384\n"
     ]
    }
   ],
   "source": [
    "# Function to download Hugging Face embeddings\n",
    "def download_hugging_face_embeddings():\n",
    "    embeddings = HuggingFaceEmbeddings(model_name=\"sentence-transformers/all-MiniLM-L6-v2\")\n",
    "    return embeddings\n",
    "\n",
    "# Download embeddings\n",
    "embeddings = download_hugging_face_embeddings()\n",
    "\n",
    "# Example query embedding check\n",
    "query_result = embeddings.embed_query(\"Hello world\")\n",
    "print(f\"Query Embedding Length: {len(query_result)}\")\n"
   ]
  },
  {
   "cell_type": "code",
   "execution_count": 4,
   "metadata": {},
   "outputs": [
    {
     "name": "stdout",
     "output_type": "stream",
     "text": [
      "Top 3 Documents for the Query: [Document(page_content=\"GALE ENCYCLOPEDIA OF MEDICINE 2 117Allergies\\nAllergic rhinitis is commonly triggered by\\nexposure to household dust, animal fur,or pollen. The foreign substance thattriggers an allergic reaction is calledan allergen.\\nThe presence of an allergen causes the\\nbody's lymphocytes to begin producingIgE antibodies. The lymphocytes of an allergy sufferer produce an unusuallylarge amount of IgE.\\nIgE molecules attach to mast\\ncells, which contain histamine.HistaminePollen grains\\nLymphocyte\\nFIRST EXPOSURE\", metadata={}), Document(page_content='the itchy, scratchy nose, eyes, and throat common inallergic rhinitis .\\nThe particular allergens to which a person is sensi-', metadata={}), Document(page_content='allergens are the following:\\n• plant pollens\\n• animal fur and dander\\n• body parts from house mites (microscopic creatures\\nfound in all houses)\\n• house dust• mold spores• cigarette smoke• solvents• cleaners\\nCommon food allergens include the following:\\n• nuts, especially peanuts, walnuts, and brazil nuts\\n• fish, mollusks, and shellfish• eggs• wheat• milk• food additives and preservatives\\nThe following types of drugs commonly cause aller-\\ngic reactions:\\n• penicillin or other antibiotics', metadata={})]\n"
     ]
    }
   ],
   "source": [
    "# Initialize FAISS vector store from text chunks and embeddings\n",
    "docsearch = FAISS.from_texts([t.page_content for t in text_chunks], embeddings)\n",
    "\n",
    "# Example query to search in the FAISS index\n",
    "query = \"What are allergies?\"\n",
    "docs = docsearch.similarity_search(query, k=3)\n",
    "print(\"Top 3 Documents for the Query:\", docs)\n"
   ]
  },
  {
   "cell_type": "code",
   "execution_count": 5,
   "metadata": {},
   "outputs": [],
   "source": [
    "# Define the prompt template to be used for the chatbot\n",
    "prompt_template = \"\"\"\n",
    "Use the following pieces of information to answer the user's question.\n",
    "If you don't know the answer, just say that you don't know, don't try to make up an answer.\n",
    "\n",
    "Context: {context}\n",
    "Question: {question}\n",
    "\n",
    "Only return the helpful answer below and nothing else.\n",
    "Helpful answer:\n",
    "\"\"\"\n",
    "\n",
    "# Create a prompt object\n",
    "PROMPT = PromptTemplate(template=prompt_template, input_variables=[\"context\", \"question\"])\n",
    "\n",
    "# Specify chain type arguments\n",
    "chain_type_kwargs = {\"prompt\": PROMPT}\n"
   ]
  },
  {
   "cell_type": "code",
   "execution_count": 6,
   "metadata": {},
   "outputs": [],
   "source": [
    "# Initialize the LLM with the pre-trained model\n",
    "llm = CTransformers(\n",
    "    model=\"model/llama-2-7b-chat.ggmlv3.q4_0.bin\",\n",
    "    model_type=\"llama\",\n",
    "    config={'max_new_tokens': 512, 'temperature': 0.8}\n",
    ")\n"
   ]
  },
  {
   "cell_type": "code",
   "execution_count": 7,
   "metadata": {},
   "outputs": [],
   "source": [
    "# Setup the RetrievalQA chain with the LLM and document retriever\n",
    "qa = RetrievalQA.from_chain_type(\n",
    "    llm=llm,\n",
    "    chain_type=\"stuff\",\n",
    "    retriever=docsearch.as_retriever(search_kwargs={'k': 2}),\n",
    "    return_source_documents=True,\n",
    "    chain_type_kwargs=chain_type_kwargs\n",
    ")\n"
   ]
  },
  {
   "cell_type": "code",
   "execution_count": 8,
   "metadata": {},
   "outputs": [
    {
     "name": "stdout",
     "output_type": "stream",
     "text": [
      "\n",
      "User Question: what is alzheimers\n",
      "Bot Response: Alzheimer's disease (AD) is a neurologic disorder characterized by progressive cognitive decline, including memory loss, confusion, and difficulty with communication and daily activities. It is the most common form of dementia, affecting an estimated 5.8 million Americans, according to the Alzheimer's Association. The exact cause of AD is not yet fully understood, but it is believed to be caused by a combination of genetic, lifestyle, and environmental factors. There is currently no cure for AD, but there are several medications and therapies that can help manage its symptoms and slow its progression.\n",
      "\n",
      "\n",
      "User Question: what is migraine and how do i cure it?\n",
      "Bot Response: Migraines are a type of headache that can cause intense pain, often on one side of the head, along with other symptoms like nausea, vomiting, and dizziness. The exact cause of migraines is not fully understood, but they may be related to changes in blood flow, hormonal changes, or other factors. There are several treatments available for migraines, including over-the-counter pain relievers, prescription medications, and lifestyle changes like avoiding triggers and managing stress. If you are experiencing frequent or severe migraines, it is important to consult with a healthcare professional for proper diagnosis and treatment.\n",
      "\n",
      "\n",
      "User Question: how do i cure alzheimers?\n",
      "Bot Response: Currently, there is no known cure for Alzheimer's disease. While researchers are still learning about the underlying causes of the disease, there are several treatments available that can help manage its symptoms and slow down its progression. These include medications, such as cholinesterase inhibitors and memantine, which can improve cognitive function and delay the loss of independence. Additionally, non-pharmacological interventions, such as exercise, social engagement, and cognitive stimulation, may also be helpful in managing the disease. However, it is important to note that these treatments do not cure Alzheimer's disease, and they are most effective when started early in the course of the disease.\n",
      "\n",
      "\n",
      "User Question: what is HIV?\n",
      "Bot Response: HIV stands for Human Immunodeficiency Virus, which is a type of retrovirus that attacks the body's immune system, making it difficult to fight off infections and diseases. It is the cause of AIDS (Acquired Immune Deficiency Syndrome), a condition in which the immune system has been severely damaged.\n",
      "\n",
      "\n",
      "User Question: how is diabetes different from hepatitis\n",
      "Bot Response: Diabetes and hepatitis are two separate diseases with distinct symptoms and causes. Diabetes is a metabolic disorder characterized by high blood sugar levels, while hepatitis is an inflammatory disease that affects the liver. While both conditions can have similar symptoms such as fatigue, nausea, and abdominal pain, they are caused by different factors and require distinct treatments.\n",
      "\n",
      "\n",
      "User Question: I am 35F and feeling pain in left thigh. What could be the possible disease?\n",
      "Bot Response: It's difficult to say without more information, but some possible causes of pain in the left thigh could include muscle strain or pull, bursitis (inflammation of the fluid-filled sacs that cushion joints), tendinitis (inflammation of tendons), and iliotibial band syndrome (a common overuse injury). It's also possible that the pain could be related to a systemic condition such as arthritis, gout, or an infection. If you are experiencing persistent or severe pain, it is important to see a healthcare provider for proper evaluation and treatment.\n",
      "\n",
      "\n",
      "User Question: I am 70M and feeling body ache on the left side of my body specifically chest, please suggest some medications\n",
      "Bot Response: If you are experiencing a sudden onset of body aches on the left side of your body, particularly in the chest area, it is important to consult with your physician as soon as possible. They will be able to assess your symptoms and determine the cause of the discomfort. In the meantime, you can try taking an over-the-counter pain reliever such as ibuprofen or acetaminophen to help manage any discomfort. However, it is important to follow the recommended dosage instructions carefully and only take these medications under the guidance of a medical professional.\n",
      "\n",
      "\n",
      "Exiting chat... Goodbye!\n"
     ]
    }
   ],
   "source": [
    "# Chat loop for user interaction\n",
    "while True:\n",
    "    try:\n",
    "        # Get user input directly in the terminal\n",
    "        user_input = input(f\"\\nInput your question (type 'exit' to stop): \")\n",
    "\n",
    "        # Break loop if user types 'exit'\n",
    "        if user_input.lower() == 'exit':\n",
    "            print(\"\\nExiting chat... Goodbye!\")\n",
    "            break\n",
    "        \n",
    "        # Get response from the QA chain\n",
    "        result = qa({\"query\": user_input})\n",
    "        \n",
    "        # Extract the response\n",
    "        response = result[\"result\"]\n",
    "        \n",
    "        # Display both the question and the response in the terminal\n",
    "        print(f\"\\nUser Question: {user_input}\")\n",
    "        print(f\"Bot Response: {response}\\n\")\n",
    "    \n",
    "    except KeyboardInterrupt:\n",
    "        # Allow the user to exit by pressing Ctrl+C\n",
    "        print(\"\\nExiting chat...\")\n",
    "        break\n"
   ]
  },
  {
   "cell_type": "code",
   "execution_count": null,
   "metadata": {},
   "outputs": [],
   "source": []
  }
 ],
 "metadata": {
  "kernelspec": {
   "display_name": "mchatbot",
   "language": "python",
   "name": "python3"
  },
  "language_info": {
   "codemirror_mode": {
    "name": "ipython",
    "version": 3
   },
   "file_extension": ".py",
   "mimetype": "text/x-python",
   "name": "python",
   "nbconvert_exporter": "python",
   "pygments_lexer": "ipython3",
   "version": "3.10.15"
  }
 },
 "nbformat": 4,
 "nbformat_minor": 2
}
